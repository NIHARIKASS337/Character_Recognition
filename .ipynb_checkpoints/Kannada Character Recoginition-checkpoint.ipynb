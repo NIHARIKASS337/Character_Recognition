{
 "cells": [
  {
   "cell_type": "code",
   "execution_count": 1,
   "id": "679bd95a",
   "metadata": {
    "execution": {
     "iopub.execute_input": "2023-03-14T16:29:07.389414Z",
     "iopub.status.busy": "2023-03-14T16:29:07.389414Z",
     "iopub.status.idle": "2023-03-14T16:29:23.626802Z",
     "shell.execute_reply": "2023-03-14T16:29:23.626802Z",
     "shell.execute_reply.started": "2023-03-14T16:29:07.389414Z"
    },
    "tags": []
   },
   "outputs": [
    {
     "name": "stdout",
     "output_type": "stream",
     "text": [
      "time: 0 ns (started: 2023-03-14 21:59:23 +05:30)\n"
     ]
    }
   ],
   "source": [
    "import os\n",
    "import pandas as pd\n",
    "import numpy as np\n",
    "from skimage.io import imread\n",
    "from skimage.transform import resize\n",
    "import cv2 as cv\n",
    "from sklearn.svm import SVC\n",
    "from sklearn.ensemble import RandomForestClassifier\n",
    "from sklearn.linear_model import LogisticRegression\n",
    "from sklearn.model_selection import train_test_split,GridSearchCV,cross_val_score\n",
    "import warnings\n",
    "import shutil\n",
    "from tqdm import tqdm\n",
    "warnings.filterwarnings('ignore')\n",
    "%load_ext autotime"
   ]
  },
  {
   "cell_type": "markdown",
   "id": "f7fcf8d1",
   "metadata": {},
   "source": [
    "# IMG  DIR"
   ]
  },
  {
   "cell_type": "code",
   "execution_count": 3,
   "id": "90f7ee04",
   "metadata": {
    "execution": {
     "iopub.execute_input": "2023-03-14T16:13:04.201334Z",
     "iopub.status.busy": "2023-03-14T16:13:04.201334Z",
     "iopub.status.idle": "2023-03-14T16:13:04.215336Z",
     "shell.execute_reply": "2023-03-14T16:13:04.215336Z",
     "shell.execute_reply.started": "2023-03-14T16:13:04.201334Z"
    },
    "tags": []
   },
   "outputs": [
    {
     "name": "stdout",
     "output_type": "stream",
     "text": [
      "time: 0 ns (started: 2023-03-14 21:43:04 +05:30)\n"
     ]
    }
   ],
   "source": [
    "# len(os.listdir('orginalImg/'))"
   ]
  },
  {
   "cell_type": "code",
   "execution_count": 4,
   "id": "a6efa41e",
   "metadata": {
    "execution": {
     "iopub.execute_input": "2023-03-14T16:29:50.819176Z",
     "iopub.status.busy": "2023-03-14T16:29:50.814598Z",
     "iopub.status.idle": "2023-03-14T16:29:50.846514Z",
     "shell.execute_reply": "2023-03-14T16:29:50.846514Z",
     "shell.execute_reply.started": "2023-03-14T16:29:50.819176Z"
    },
    "tags": []
   },
   "outputs": [
    {
     "data": {
      "text/plain": [
       "['img017-001.png',\n",
       " 'img017-002.png',\n",
       " 'img017-003.png',\n",
       " 'img017-004.png',\n",
       " 'img017-005.png',\n",
       " 'img017-006.png',\n",
       " 'img017-007.png',\n",
       " 'img017-008.png',\n",
       " 'img017-009.png',\n",
       " 'img017-010.png']"
      ]
     },
     "execution_count": 4,
     "metadata": {},
     "output_type": "execute_result"
    },
    {
     "name": "stdout",
     "output_type": "stream",
     "text": [
      "time: 15 ms (started: 2023-03-14 21:59:50 +05:30)\n"
     ]
    }
   ],
   "source": [
    "files=os.listdir('raw_img/')\n",
    "files[:10]"
   ]
  },
  {
   "cell_type": "code",
   "execution_count": 16,
   "id": "66dd7976",
   "metadata": {
    "execution": {
     "iopub.execute_input": "2023-03-14T16:40:10.140172Z",
     "iopub.status.busy": "2023-03-14T16:40:10.140172Z",
     "iopub.status.idle": "2023-03-14T16:40:10.171286Z",
     "shell.execute_reply": "2023-03-14T16:40:10.171286Z",
     "shell.execute_reply.started": "2023-03-14T16:40:10.140172Z"
    },
    "tags": []
   },
   "outputs": [
    {
     "data": {
      "text/html": [
       "<div>\n",
       "<style scoped>\n",
       "    .dataframe tbody tr th:only-of-type {\n",
       "        vertical-align: middle;\n",
       "    }\n",
       "\n",
       "    .dataframe tbody tr th {\n",
       "        vertical-align: top;\n",
       "    }\n",
       "\n",
       "    .dataframe thead th {\n",
       "        text-align: right;\n",
       "    }\n",
       "</style>\n",
       "<table border=\"1\" class=\"dataframe\">\n",
       "  <thead>\n",
       "    <tr style=\"text-align: right;\">\n",
       "      <th></th>\n",
       "      <th>img</th>\n",
       "      <th>class</th>\n",
       "    </tr>\n",
       "  </thead>\n",
       "  <tbody>\n",
       "    <tr>\n",
       "      <th>0</th>\n",
       "      <td>Img/img017-001.png</td>\n",
       "      <td>17</td>\n",
       "    </tr>\n",
       "    <tr>\n",
       "      <th>1</th>\n",
       "      <td>Img/img017-002.png</td>\n",
       "      <td>17</td>\n",
       "    </tr>\n",
       "    <tr>\n",
       "      <th>2</th>\n",
       "      <td>Img/img017-003.png</td>\n",
       "      <td>17</td>\n",
       "    </tr>\n",
       "    <tr>\n",
       "      <th>3</th>\n",
       "      <td>Img/img017-004.png</td>\n",
       "      <td>17</td>\n",
       "    </tr>\n",
       "    <tr>\n",
       "      <th>4</th>\n",
       "      <td>Img/img017-005.png</td>\n",
       "      <td>17</td>\n",
       "    </tr>\n",
       "  </tbody>\n",
       "</table>\n",
       "</div>"
      ],
      "text/plain": [
       "                  img  class\n",
       "0  Img/img017-001.png     17\n",
       "1  Img/img017-002.png     17\n",
       "2  Img/img017-003.png     17\n",
       "3  Img/img017-004.png     17\n",
       "4  Img/img017-005.png     17"
      ]
     },
     "execution_count": 16,
     "metadata": {},
     "output_type": "execute_result"
    },
    {
     "name": "stdout",
     "output_type": "stream",
     "text": [
      "time: 16 ms (started: 2023-03-14 22:10:10 +05:30)\n"
     ]
    }
   ],
   "source": [
    "data_set=pd.read_csv('Characters.csv')\n",
    "data_set.head()"
   ]
  },
  {
   "cell_type": "code",
   "execution_count": 17,
   "id": "a204aec6-68cd-4e4f-86cd-d5df56e0a4b7",
   "metadata": {
    "execution": {
     "iopub.execute_input": "2023-03-14T16:40:10.658239Z",
     "iopub.status.busy": "2023-03-14T16:40:10.658239Z",
     "iopub.status.idle": "2023-03-14T16:40:10.681535Z",
     "shell.execute_reply": "2023-03-14T16:40:10.681535Z",
     "shell.execute_reply.started": "2023-03-14T16:40:10.658239Z"
    },
    "tags": []
   },
   "outputs": [
    {
     "data": {
      "text/plain": [
       "(425, 2)"
      ]
     },
     "execution_count": 17,
     "metadata": {},
     "output_type": "execute_result"
    },
    {
     "name": "stdout",
     "output_type": "stream",
     "text": [
      "time: 15 ms (started: 2023-03-14 22:10:10 +05:30)\n"
     ]
    }
   ],
   "source": [
    "data_set.shape"
   ]
  },
  {
   "cell_type": "markdown",
   "id": "ee222647",
   "metadata": {},
   "source": [
    "# Resize Test"
   ]
  },
  {
   "cell_type": "code",
   "execution_count": 9,
   "id": "154c07a7",
   "metadata": {
    "execution": {
     "iopub.execute_input": "2023-03-14T15:28:46.497269Z",
     "iopub.status.busy": "2023-03-14T15:28:46.497269Z",
     "iopub.status.idle": "2023-03-14T15:28:48.301631Z",
     "shell.execute_reply": "2023-03-14T15:28:48.301631Z",
     "shell.execute_reply.started": "2023-03-14T15:28:46.497269Z"
    },
    "tags": []
   },
   "outputs": [
    {
     "name": "stdout",
     "output_type": "stream",
     "text": [
      "img648-005.png\n"
     ]
    },
    {
     "data": {
      "text/plain": [
       "-1"
      ]
     },
     "execution_count": 9,
     "metadata": {},
     "output_type": "execute_result"
    },
    {
     "name": "stdout",
     "output_type": "stream",
     "text": [
      "time: 1.78 s (started: 2023-03-14 20:58:46 +05:30)\n"
     ]
    }
   ],
   "source": [
    "img=cv.imread(f'raw_img/{files[4]}')\n",
    "print(files[4])\n",
    "cv.imshow('sample',img)\n",
    "cv.waitKey(0)"
   ]
  },
  {
   "cell_type": "code",
   "execution_count": 6,
   "id": "bddaa9bc",
   "metadata": {
    "execution": {
     "iopub.execute_input": "2023-03-14T14:48:21.983973Z",
     "iopub.status.busy": "2023-03-14T14:48:21.983973Z",
     "iopub.status.idle": "2023-03-14T14:48:23.851213Z",
     "shell.execute_reply": "2023-03-14T14:48:23.851213Z",
     "shell.execute_reply.started": "2023-03-14T14:48:21.983973Z"
    },
    "tags": []
   },
   "outputs": [
    {
     "data": {
      "text/plain": [
       "-1"
      ]
     },
     "execution_count": 6,
     "metadata": {},
     "output_type": "execute_result"
    },
    {
     "name": "stdout",
     "output_type": "stream",
     "text": [
      "time: 1.84 s (started: 2023-03-14 20:18:21 +05:30)\n"
     ]
    }
   ],
   "source": [
    "tranform_img=resize(img,(150,150,3))\n",
    "cv.imshow('tranformed',tranform_img)\n",
    "cv.waitKey(0)"
   ]
  },
  {
   "cell_type": "markdown",
   "id": "1c55962d",
   "metadata": {},
   "source": [
    "# Image Tranformation"
   ]
  },
  {
   "cell_type": "code",
   "execution_count": 5,
   "id": "b236fa6e",
   "metadata": {
    "execution": {
     "iopub.execute_input": "2023-03-14T16:30:01.199352Z",
     "iopub.status.busy": "2023-03-14T16:30:01.199352Z",
     "iopub.status.idle": "2023-03-14T16:30:54.554435Z",
     "shell.execute_reply": "2023-03-14T16:30:54.554435Z",
     "shell.execute_reply.started": "2023-03-14T16:30:01.199352Z"
    },
    "tags": []
   },
   "outputs": [
    {
     "name": "stderr",
     "output_type": "stream",
     "text": [
      "100%|████████████████████████████████████████████████████████████████████████████████| 425/425 [00:53<00:00,  7.97it/s]"
     ]
    },
    {
     "name": "stdout",
     "output_type": "stream",
     "text": [
      "time: 53.3 s (started: 2023-03-14 22:00:01 +05:30)\n"
     ]
    },
    {
     "name": "stderr",
     "output_type": "stream",
     "text": [
      "\n"
     ]
    }
   ],
   "source": [
    "# os.makedirs('img')\n",
    "for i in tqdm(range(len(files))):\n",
    "    img=cv.imread(f'raw_img/{files[i]}')\n",
    "    tranform_img=resize(img,(150,150,3))\n",
    "    path=f'img/{files[i]}'\n",
    "    cv.imwrite(path, tranform_img*255)"
   ]
  },
  {
   "cell_type": "markdown",
   "id": "106ff006",
   "metadata": {},
   "source": [
    "# Feature Extraction"
   ]
  },
  {
   "cell_type": "code",
   "execution_count": 18,
   "id": "81844a3f",
   "metadata": {
    "execution": {
     "iopub.execute_input": "2023-03-14T16:40:16.691516Z",
     "iopub.status.busy": "2023-03-14T16:40:16.687983Z",
     "iopub.status.idle": "2023-03-14T16:40:18.869645Z",
     "shell.execute_reply": "2023-03-14T16:40:18.869645Z",
     "shell.execute_reply.started": "2023-03-14T16:40:16.687983Z"
    },
    "tags": []
   },
   "outputs": [
    {
     "name": "stderr",
     "output_type": "stream",
     "text": [
      "100%|███████████████████████████████████████████████████████████████████████████████| 425/425 [00:02<00:00, 200.01it/s]"
     ]
    },
    {
     "name": "stdout",
     "output_type": "stream",
     "text": [
      "time: 2.16 s (started: 2023-03-14 22:10:16 +05:30)\n"
     ]
    },
    {
     "name": "stderr",
     "output_type": "stream",
     "text": [
      "\n"
     ]
    }
   ],
   "source": [
    "feature=[]\n",
    "target=[]\n",
    "for i in tqdm(range(len(os.listdir('Img/')))):\n",
    "    img_path=(data_set['img'].iloc[i])\n",
    "\n",
    "    img=imread(img_path) #tranform image\n",
    "    flatten_img=img.flatten()\n",
    "\n",
    "    feature.append(flatten_img)\n",
    "    target.append(data_set['class'].iloc[i])\n",
    "\n",
    "\n",
    "feature=np.array(feature)\n",
    "target=np.array(target)"
   ]
  },
  {
   "cell_type": "markdown",
   "id": "32e056fb",
   "metadata": {},
   "source": [
    "# Splitting with 30% for testing"
   ]
  },
  {
   "cell_type": "code",
   "execution_count": 13,
   "id": "a54dadd5",
   "metadata": {
    "execution": {
     "iopub.execute_input": "2023-03-14T15:29:24.188681Z",
     "iopub.status.busy": "2023-03-14T15:29:24.188681Z",
     "iopub.status.idle": "2023-03-14T15:29:24.220185Z",
     "shell.execute_reply": "2023-03-14T15:29:24.220185Z",
     "shell.execute_reply.started": "2023-03-14T15:29:24.188681Z"
    },
    "tags": []
   },
   "outputs": [
    {
     "name": "stdout",
     "output_type": "stream",
     "text": [
      "time: 15 ms (started: 2023-03-14 20:59:24 +05:30)\n"
     ]
    }
   ],
   "source": [
    "X_train,X_test,y_train,y_test=train_test_split(feature,target,test_size=.2,random_state=21)"
   ]
  },
  {
   "cell_type": "code",
   "execution_count": 14,
   "id": "abab1be1",
   "metadata": {
    "execution": {
     "iopub.execute_input": "2023-03-14T15:29:24.223762Z",
     "iopub.status.busy": "2023-03-14T15:29:24.223762Z",
     "iopub.status.idle": "2023-03-14T15:29:24.237287Z",
     "shell.execute_reply": "2023-03-14T15:29:24.236272Z",
     "shell.execute_reply.started": "2023-03-14T15:29:24.223762Z"
    },
    "tags": []
   },
   "outputs": [
    {
     "data": {
      "text/plain": [
       "((200, 67500), (50, 67500))"
      ]
     },
     "execution_count": 14,
     "metadata": {},
     "output_type": "execute_result"
    },
    {
     "name": "stdout",
     "output_type": "stream",
     "text": [
      "time: 0 ns (started: 2023-03-14 20:59:24 +05:30)\n"
     ]
    }
   ],
   "source": [
    "X_train.shape,X_test.shape"
   ]
  },
  {
   "cell_type": "code",
   "execution_count": 22,
   "id": "42a5f859",
   "metadata": {
    "execution": {
     "iopub.execute_input": "2023-03-14T15:32:31.886786Z",
     "iopub.status.busy": "2023-03-14T15:32:31.886786Z",
     "iopub.status.idle": "2023-03-14T15:32:51.864588Z",
     "shell.execute_reply": "2023-03-14T15:32:51.864588Z",
     "shell.execute_reply.started": "2023-03-14T15:32:31.886786Z"
    },
    "tags": []
   },
   "outputs": [
    {
     "data": {
      "text/html": [
       "<style>#sk-container-id-1 {color: black;background-color: white;}#sk-container-id-1 pre{padding: 0;}#sk-container-id-1 div.sk-toggleable {background-color: white;}#sk-container-id-1 label.sk-toggleable__label {cursor: pointer;display: block;width: 100%;margin-bottom: 0;padding: 0.3em;box-sizing: border-box;text-align: center;}#sk-container-id-1 label.sk-toggleable__label-arrow:before {content: \"▸\";float: left;margin-right: 0.25em;color: #696969;}#sk-container-id-1 label.sk-toggleable__label-arrow:hover:before {color: black;}#sk-container-id-1 div.sk-estimator:hover label.sk-toggleable__label-arrow:before {color: black;}#sk-container-id-1 div.sk-toggleable__content {max-height: 0;max-width: 0;overflow: hidden;text-align: left;background-color: #f0f8ff;}#sk-container-id-1 div.sk-toggleable__content pre {margin: 0.2em;color: black;border-radius: 0.25em;background-color: #f0f8ff;}#sk-container-id-1 input.sk-toggleable__control:checked~div.sk-toggleable__content {max-height: 200px;max-width: 100%;overflow: auto;}#sk-container-id-1 input.sk-toggleable__control:checked~label.sk-toggleable__label-arrow:before {content: \"▾\";}#sk-container-id-1 div.sk-estimator input.sk-toggleable__control:checked~label.sk-toggleable__label {background-color: #d4ebff;}#sk-container-id-1 div.sk-label input.sk-toggleable__control:checked~label.sk-toggleable__label {background-color: #d4ebff;}#sk-container-id-1 input.sk-hidden--visually {border: 0;clip: rect(1px 1px 1px 1px);clip: rect(1px, 1px, 1px, 1px);height: 1px;margin: -1px;overflow: hidden;padding: 0;position: absolute;width: 1px;}#sk-container-id-1 div.sk-estimator {font-family: monospace;background-color: #f0f8ff;border: 1px dotted black;border-radius: 0.25em;box-sizing: border-box;margin-bottom: 0.5em;}#sk-container-id-1 div.sk-estimator:hover {background-color: #d4ebff;}#sk-container-id-1 div.sk-parallel-item::after {content: \"\";width: 100%;border-bottom: 1px solid gray;flex-grow: 1;}#sk-container-id-1 div.sk-label:hover label.sk-toggleable__label {background-color: #d4ebff;}#sk-container-id-1 div.sk-serial::before {content: \"\";position: absolute;border-left: 1px solid gray;box-sizing: border-box;top: 0;bottom: 0;left: 50%;z-index: 0;}#sk-container-id-1 div.sk-serial {display: flex;flex-direction: column;align-items: center;background-color: white;padding-right: 0.2em;padding-left: 0.2em;position: relative;}#sk-container-id-1 div.sk-item {position: relative;z-index: 1;}#sk-container-id-1 div.sk-parallel {display: flex;align-items: stretch;justify-content: center;background-color: white;position: relative;}#sk-container-id-1 div.sk-item::before, #sk-container-id-1 div.sk-parallel-item::before {content: \"\";position: absolute;border-left: 1px solid gray;box-sizing: border-box;top: 0;bottom: 0;left: 50%;z-index: -1;}#sk-container-id-1 div.sk-parallel-item {display: flex;flex-direction: column;z-index: 1;position: relative;background-color: white;}#sk-container-id-1 div.sk-parallel-item:first-child::after {align-self: flex-end;width: 50%;}#sk-container-id-1 div.sk-parallel-item:last-child::after {align-self: flex-start;width: 50%;}#sk-container-id-1 div.sk-parallel-item:only-child::after {width: 0;}#sk-container-id-1 div.sk-dashed-wrapped {border: 1px dashed gray;margin: 0 0.4em 0.5em 0.4em;box-sizing: border-box;padding-bottom: 0.4em;background-color: white;}#sk-container-id-1 div.sk-label label {font-family: monospace;font-weight: bold;display: inline-block;line-height: 1.2em;}#sk-container-id-1 div.sk-label-container {text-align: center;}#sk-container-id-1 div.sk-container {/* jupyter's `normalize.less` sets `[hidden] { display: none; }` but bootstrap.min.css set `[hidden] { display: none !important; }` so we also need the `!important` here to be able to override the default hidden behavior on the sphinx rendered scikit-learn.org. See: https://github.com/scikit-learn/scikit-learn/issues/21755 */display: inline-block !important;position: relative;}#sk-container-id-1 div.sk-text-repr-fallback {display: none;}</style><div id=\"sk-container-id-1\" class=\"sk-top-container\"><div class=\"sk-text-repr-fallback\"><pre>SVC()</pre><b>In a Jupyter environment, please rerun this cell to show the HTML representation or trust the notebook. <br />On GitHub, the HTML representation is unable to render, please try loading this page with nbviewer.org.</b></div><div class=\"sk-container\" hidden><div class=\"sk-item\"><div class=\"sk-estimator sk-toggleable\"><input class=\"sk-toggleable__control sk-hidden--visually\" id=\"sk-estimator-id-1\" type=\"checkbox\" checked><label for=\"sk-estimator-id-1\" class=\"sk-toggleable__label sk-toggleable__label-arrow\">SVC</label><div class=\"sk-toggleable__content\"><pre>SVC()</pre></div></div></div></div></div>"
      ],
      "text/plain": [
       "SVC()"
      ]
     },
     "execution_count": 22,
     "metadata": {},
     "output_type": "execute_result"
    },
    {
     "name": "stdout",
     "output_type": "stream",
     "text": [
      "time: 20 s (started: 2023-03-14 21:02:31 +05:30)\n"
     ]
    }
   ],
   "source": [
    "model1=SVC()\n",
    "model1.fit(feature,target)\n",
    "# model1.score(feature,target)*100,model1.score(X_test,y_test)*100"
   ]
  },
  {
   "cell_type": "code",
   "execution_count": 28,
   "id": "55918dab-e239-41d0-bdb8-c099f41e5393",
   "metadata": {
    "execution": {
     "iopub.execute_input": "2023-03-14T15:35:24.216698Z",
     "iopub.status.busy": "2023-03-14T15:35:24.216698Z",
     "iopub.status.idle": "2023-03-14T15:35:25.506651Z",
     "shell.execute_reply": "2023-03-14T15:35:25.505353Z",
     "shell.execute_reply.started": "2023-03-14T15:35:24.216698Z"
    },
    "tags": []
   },
   "outputs": [
    {
     "data": {
      "text/html": [
       "<style>#sk-container-id-2 {color: black;background-color: white;}#sk-container-id-2 pre{padding: 0;}#sk-container-id-2 div.sk-toggleable {background-color: white;}#sk-container-id-2 label.sk-toggleable__label {cursor: pointer;display: block;width: 100%;margin-bottom: 0;padding: 0.3em;box-sizing: border-box;text-align: center;}#sk-container-id-2 label.sk-toggleable__label-arrow:before {content: \"▸\";float: left;margin-right: 0.25em;color: #696969;}#sk-container-id-2 label.sk-toggleable__label-arrow:hover:before {color: black;}#sk-container-id-2 div.sk-estimator:hover label.sk-toggleable__label-arrow:before {color: black;}#sk-container-id-2 div.sk-toggleable__content {max-height: 0;max-width: 0;overflow: hidden;text-align: left;background-color: #f0f8ff;}#sk-container-id-2 div.sk-toggleable__content pre {margin: 0.2em;color: black;border-radius: 0.25em;background-color: #f0f8ff;}#sk-container-id-2 input.sk-toggleable__control:checked~div.sk-toggleable__content {max-height: 200px;max-width: 100%;overflow: auto;}#sk-container-id-2 input.sk-toggleable__control:checked~label.sk-toggleable__label-arrow:before {content: \"▾\";}#sk-container-id-2 div.sk-estimator input.sk-toggleable__control:checked~label.sk-toggleable__label {background-color: #d4ebff;}#sk-container-id-2 div.sk-label input.sk-toggleable__control:checked~label.sk-toggleable__label {background-color: #d4ebff;}#sk-container-id-2 input.sk-hidden--visually {border: 0;clip: rect(1px 1px 1px 1px);clip: rect(1px, 1px, 1px, 1px);height: 1px;margin: -1px;overflow: hidden;padding: 0;position: absolute;width: 1px;}#sk-container-id-2 div.sk-estimator {font-family: monospace;background-color: #f0f8ff;border: 1px dotted black;border-radius: 0.25em;box-sizing: border-box;margin-bottom: 0.5em;}#sk-container-id-2 div.sk-estimator:hover {background-color: #d4ebff;}#sk-container-id-2 div.sk-parallel-item::after {content: \"\";width: 100%;border-bottom: 1px solid gray;flex-grow: 1;}#sk-container-id-2 div.sk-label:hover label.sk-toggleable__label {background-color: #d4ebff;}#sk-container-id-2 div.sk-serial::before {content: \"\";position: absolute;border-left: 1px solid gray;box-sizing: border-box;top: 0;bottom: 0;left: 50%;z-index: 0;}#sk-container-id-2 div.sk-serial {display: flex;flex-direction: column;align-items: center;background-color: white;padding-right: 0.2em;padding-left: 0.2em;position: relative;}#sk-container-id-2 div.sk-item {position: relative;z-index: 1;}#sk-container-id-2 div.sk-parallel {display: flex;align-items: stretch;justify-content: center;background-color: white;position: relative;}#sk-container-id-2 div.sk-item::before, #sk-container-id-2 div.sk-parallel-item::before {content: \"\";position: absolute;border-left: 1px solid gray;box-sizing: border-box;top: 0;bottom: 0;left: 50%;z-index: -1;}#sk-container-id-2 div.sk-parallel-item {display: flex;flex-direction: column;z-index: 1;position: relative;background-color: white;}#sk-container-id-2 div.sk-parallel-item:first-child::after {align-self: flex-end;width: 50%;}#sk-container-id-2 div.sk-parallel-item:last-child::after {align-self: flex-start;width: 50%;}#sk-container-id-2 div.sk-parallel-item:only-child::after {width: 0;}#sk-container-id-2 div.sk-dashed-wrapped {border: 1px dashed gray;margin: 0 0.4em 0.5em 0.4em;box-sizing: border-box;padding-bottom: 0.4em;background-color: white;}#sk-container-id-2 div.sk-label label {font-family: monospace;font-weight: bold;display: inline-block;line-height: 1.2em;}#sk-container-id-2 div.sk-label-container {text-align: center;}#sk-container-id-2 div.sk-container {/* jupyter's `normalize.less` sets `[hidden] { display: none; }` but bootstrap.min.css set `[hidden] { display: none !important; }` so we also need the `!important` here to be able to override the default hidden behavior on the sphinx rendered scikit-learn.org. See: https://github.com/scikit-learn/scikit-learn/issues/21755 */display: inline-block !important;position: relative;}#sk-container-id-2 div.sk-text-repr-fallback {display: none;}</style><div id=\"sk-container-id-2\" class=\"sk-top-container\"><div class=\"sk-text-repr-fallback\"><pre>RandomForestClassifier()</pre><b>In a Jupyter environment, please rerun this cell to show the HTML representation or trust the notebook. <br />On GitHub, the HTML representation is unable to render, please try loading this page with nbviewer.org.</b></div><div class=\"sk-container\" hidden><div class=\"sk-item\"><div class=\"sk-estimator sk-toggleable\"><input class=\"sk-toggleable__control sk-hidden--visually\" id=\"sk-estimator-id-2\" type=\"checkbox\" checked><label for=\"sk-estimator-id-2\" class=\"sk-toggleable__label sk-toggleable__label-arrow\">RandomForestClassifier</label><div class=\"sk-toggleable__content\"><pre>RandomForestClassifier()</pre></div></div></div></div></div>"
      ],
      "text/plain": [
       "RandomForestClassifier()"
      ]
     },
     "execution_count": 28,
     "metadata": {},
     "output_type": "execute_result"
    },
    {
     "name": "stdout",
     "output_type": "stream",
     "text": [
      "time: 1.27 s (started: 2023-03-14 21:05:24 +05:30)\n"
     ]
    }
   ],
   "source": [
    "model2=RandomForestClassifier()\n",
    "model2.fit(feature,target)"
   ]
  },
  {
   "cell_type": "code",
   "execution_count": 19,
   "id": "fc65ab57-1e8f-430b-9805-102fcdfc1bc8",
   "metadata": {
    "execution": {
     "iopub.execute_input": "2023-03-14T16:40:24.611791Z",
     "iopub.status.busy": "2023-03-14T16:40:24.611791Z",
     "iopub.status.idle": "2023-03-14T16:40:57.137675Z",
     "shell.execute_reply": "2023-03-14T16:40:57.136646Z",
     "shell.execute_reply.started": "2023-03-14T16:40:24.611791Z"
    },
    "tags": []
   },
   "outputs": [
    {
     "data": {
      "text/html": [
       "<style>#sk-container-id-2 {color: black;background-color: white;}#sk-container-id-2 pre{padding: 0;}#sk-container-id-2 div.sk-toggleable {background-color: white;}#sk-container-id-2 label.sk-toggleable__label {cursor: pointer;display: block;width: 100%;margin-bottom: 0;padding: 0.3em;box-sizing: border-box;text-align: center;}#sk-container-id-2 label.sk-toggleable__label-arrow:before {content: \"▸\";float: left;margin-right: 0.25em;color: #696969;}#sk-container-id-2 label.sk-toggleable__label-arrow:hover:before {color: black;}#sk-container-id-2 div.sk-estimator:hover label.sk-toggleable__label-arrow:before {color: black;}#sk-container-id-2 div.sk-toggleable__content {max-height: 0;max-width: 0;overflow: hidden;text-align: left;background-color: #f0f8ff;}#sk-container-id-2 div.sk-toggleable__content pre {margin: 0.2em;color: black;border-radius: 0.25em;background-color: #f0f8ff;}#sk-container-id-2 input.sk-toggleable__control:checked~div.sk-toggleable__content {max-height: 200px;max-width: 100%;overflow: auto;}#sk-container-id-2 input.sk-toggleable__control:checked~label.sk-toggleable__label-arrow:before {content: \"▾\";}#sk-container-id-2 div.sk-estimator input.sk-toggleable__control:checked~label.sk-toggleable__label {background-color: #d4ebff;}#sk-container-id-2 div.sk-label input.sk-toggleable__control:checked~label.sk-toggleable__label {background-color: #d4ebff;}#sk-container-id-2 input.sk-hidden--visually {border: 0;clip: rect(1px 1px 1px 1px);clip: rect(1px, 1px, 1px, 1px);height: 1px;margin: -1px;overflow: hidden;padding: 0;position: absolute;width: 1px;}#sk-container-id-2 div.sk-estimator {font-family: monospace;background-color: #f0f8ff;border: 1px dotted black;border-radius: 0.25em;box-sizing: border-box;margin-bottom: 0.5em;}#sk-container-id-2 div.sk-estimator:hover {background-color: #d4ebff;}#sk-container-id-2 div.sk-parallel-item::after {content: \"\";width: 100%;border-bottom: 1px solid gray;flex-grow: 1;}#sk-container-id-2 div.sk-label:hover label.sk-toggleable__label {background-color: #d4ebff;}#sk-container-id-2 div.sk-serial::before {content: \"\";position: absolute;border-left: 1px solid gray;box-sizing: border-box;top: 0;bottom: 0;left: 50%;z-index: 0;}#sk-container-id-2 div.sk-serial {display: flex;flex-direction: column;align-items: center;background-color: white;padding-right: 0.2em;padding-left: 0.2em;position: relative;}#sk-container-id-2 div.sk-item {position: relative;z-index: 1;}#sk-container-id-2 div.sk-parallel {display: flex;align-items: stretch;justify-content: center;background-color: white;position: relative;}#sk-container-id-2 div.sk-item::before, #sk-container-id-2 div.sk-parallel-item::before {content: \"\";position: absolute;border-left: 1px solid gray;box-sizing: border-box;top: 0;bottom: 0;left: 50%;z-index: -1;}#sk-container-id-2 div.sk-parallel-item {display: flex;flex-direction: column;z-index: 1;position: relative;background-color: white;}#sk-container-id-2 div.sk-parallel-item:first-child::after {align-self: flex-end;width: 50%;}#sk-container-id-2 div.sk-parallel-item:last-child::after {align-self: flex-start;width: 50%;}#sk-container-id-2 div.sk-parallel-item:only-child::after {width: 0;}#sk-container-id-2 div.sk-dashed-wrapped {border: 1px dashed gray;margin: 0 0.4em 0.5em 0.4em;box-sizing: border-box;padding-bottom: 0.4em;background-color: white;}#sk-container-id-2 div.sk-label label {font-family: monospace;font-weight: bold;display: inline-block;line-height: 1.2em;}#sk-container-id-2 div.sk-label-container {text-align: center;}#sk-container-id-2 div.sk-container {/* jupyter's `normalize.less` sets `[hidden] { display: none; }` but bootstrap.min.css set `[hidden] { display: none !important; }` so we also need the `!important` here to be able to override the default hidden behavior on the sphinx rendered scikit-learn.org. See: https://github.com/scikit-learn/scikit-learn/issues/21755 */display: inline-block !important;position: relative;}#sk-container-id-2 div.sk-text-repr-fallback {display: none;}</style><div id=\"sk-container-id-2\" class=\"sk-top-container\"><div class=\"sk-text-repr-fallback\"><pre>LogisticRegression()</pre><b>In a Jupyter environment, please rerun this cell to show the HTML representation or trust the notebook. <br />On GitHub, the HTML representation is unable to render, please try loading this page with nbviewer.org.</b></div><div class=\"sk-container\" hidden><div class=\"sk-item\"><div class=\"sk-estimator sk-toggleable\"><input class=\"sk-toggleable__control sk-hidden--visually\" id=\"sk-estimator-id-2\" type=\"checkbox\" checked><label for=\"sk-estimator-id-2\" class=\"sk-toggleable__label sk-toggleable__label-arrow\">LogisticRegression</label><div class=\"sk-toggleable__content\"><pre>LogisticRegression()</pre></div></div></div></div></div>"
      ],
      "text/plain": [
       "LogisticRegression()"
      ]
     },
     "execution_count": 19,
     "metadata": {},
     "output_type": "execute_result"
    },
    {
     "name": "stdout",
     "output_type": "stream",
     "text": [
      "time: 32.5 s (started: 2023-03-14 22:10:24 +05:30)\n"
     ]
    }
   ],
   "source": [
    "model3=LogisticRegression()\n",
    "model3.fit(feature,target)"
   ]
  },
  {
   "cell_type": "markdown",
   "id": "e8ec7abe",
   "metadata": {},
   "source": [
    "<!-- # # svc=SVC()\n",
    "\n",
    "# # params={\n",
    "# #     'C':[1,2,3,4,5],\n",
    "# #     'kernel':['poly','rbf','sigmoid'],\n",
    "# #     'gamma':['auto','scale']\n",
    "# # }\n",
    "# # GSsvm=GridSearchCV(svc,param_grid=params,n_jobs=1)\n",
    "# # GSsvm.fit(X_train,y_train)\n",
    "# # print(GSsvm.best_params_)\n",
    "# # print(GSsvm.best_score_) -->"
   ]
  },
  {
   "cell_type": "code",
   "execution_count": 37,
   "id": "fe240f64",
   "metadata": {
    "execution": {
     "iopub.execute_input": "2023-03-14T15:15:51.959360Z",
     "iopub.status.busy": "2023-03-14T15:15:51.956839Z",
     "iopub.status.idle": "2023-03-14T15:15:51.975332Z",
     "shell.execute_reply": "2023-03-14T15:15:51.975332Z",
     "shell.execute_reply.started": "2023-03-14T15:15:51.959360Z"
    },
    "tags": []
   },
   "outputs": [
    {
     "name": "stdout",
     "output_type": "stream",
     "text": [
      "time: 0 ns (started: 2023-03-14 20:45:51 +05:30)\n"
     ]
    }
   ],
   "source": [
    "svc=SVC()\n",
    "\n",
    "params={\n",
    "    'C':[1,2,3,4,5],\n",
    "    'kernel':['poly','rbf','sigmoid'],\n",
    "    'gamma':['auto','scale']\n",
    "}\n",
    "GSsvm=GridSearchCV(svc,param_grid=params,n_jobs=1)\n",
    "GSsvm.fit(X_train,y_train)\n",
    "print(GSsvm.best_params_)\n",
    "print(GSsvm.best_score_)"
   ]
  },
  {
   "cell_type": "code",
   "execution_count": null,
   "id": "5014200b-87fe-4568-b1a5-936c381a2e73",
   "metadata": {
    "execution": {
     "iopub.status.busy": "2023-03-14T15:15:46.659928Z",
     "iopub.status.idle": "2023-03-14T15:15:46.659928Z",
     "shell.execute_reply": "2023-03-14T15:15:46.659928Z",
     "shell.execute_reply.started": "2023-03-14T15:15:46.659928Z"
    },
    "tags": []
   },
   "outputs": [],
   "source": [
    "GSsvm.score(feature,target)*100,GSsvm.score(X_test,y_test)*100"
   ]
  },
  {
   "cell_type": "markdown",
   "id": "efdda2f1",
   "metadata": {
    "tags": []
   },
   "source": [
    "# Predicting"
   ]
  },
  {
   "cell_type": "code",
   "execution_count": 20,
   "id": "eada52d6",
   "metadata": {
    "execution": {
     "iopub.execute_input": "2023-03-14T16:40:57.137675Z",
     "iopub.status.busy": "2023-03-14T16:40:57.137675Z",
     "iopub.status.idle": "2023-03-14T16:40:57.152671Z",
     "shell.execute_reply": "2023-03-14T16:40:57.152671Z",
     "shell.execute_reply.started": "2023-03-14T16:40:57.137675Z"
    },
    "tags": []
   },
   "outputs": [
    {
     "name": "stdout",
     "output_type": "stream",
     "text": [
      "time: 0 ns (started: 2023-03-14 22:10:57 +05:30)\n"
     ]
    }
   ],
   "source": [
    "def tranform_image(img_path):\n",
    "    feature=[]\n",
    "    img=imread(f'{img_path}.png')\n",
    "    tranform_img=resize(img,(150,150,3))\n",
    "    flatten_img=tranform_img.flatten()\n",
    "    feature.append(flatten_img)\n",
    "    return np.array(feature)"
   ]
  },
  {
   "cell_type": "code",
   "execution_count": 22,
   "id": "020cc28e",
   "metadata": {
    "execution": {
     "iopub.execute_input": "2023-03-14T16:41:54.452729Z",
     "iopub.status.busy": "2023-03-14T16:41:54.448145Z",
     "iopub.status.idle": "2023-03-14T16:41:58.027566Z",
     "shell.execute_reply": "2023-03-14T16:41:58.025436Z",
     "shell.execute_reply.started": "2023-03-14T16:41:54.452729Z"
    },
    "tags": []
   },
   "outputs": [
    {
     "name": "stdin",
     "output_type": "stream",
     "text": [
      " img018-002\n"
     ]
    },
    {
     "name": "stdout",
     "output_type": "stream",
     "text": [
      "[18]\n",
      "time: 3.55 s (started: 2023-03-14 22:11:54 +05:30)\n"
     ]
    }
   ],
   "source": [
    "img_name=f'test_img/{input()}'\n",
    "# print(model1.predict(tranform_image(img_name)))\n",
    "# print(model2.predict(tranform_image(img_name)))\n",
    "print(model3.predict(tranform_image(img_name)))"
   ]
  },
  {
   "cell_type": "markdown",
   "id": "4a6892fe",
   "metadata": {},
   "source": [
    "# Dumping Model for future use"
   ]
  },
  {
   "cell_type": "code",
   "execution_count": 23,
   "id": "404ebe97",
   "metadata": {
    "execution": {
     "iopub.execute_input": "2023-03-14T16:42:05.922720Z",
     "iopub.status.busy": "2023-03-14T16:42:05.922720Z",
     "iopub.status.idle": "2023-03-14T16:42:05.967620Z",
     "shell.execute_reply": "2023-03-14T16:42:05.966026Z",
     "shell.execute_reply.started": "2023-03-14T16:42:05.922720Z"
    },
    "tags": []
   },
   "outputs": [
    {
     "name": "stdout",
     "output_type": "stream",
     "text": [
      "time: 31 ms (started: 2023-03-14 22:12:05 +05:30)\n"
     ]
    }
   ],
   "source": [
    "import pickle\n",
    "\n",
    "pickle.dump(model3,open('KCR.pkl','wb'))"
   ]
  },
  {
   "cell_type": "code",
   "execution_count": null,
   "id": "8d679296-51bd-47f4-955e-e899f64dc10d",
   "metadata": {},
   "outputs": [],
   "source": []
  }
 ],
 "metadata": {
  "kernelspec": {
   "display_name": "Python 3 (ipykernel)",
   "language": "python",
   "name": "python3"
  },
  "language_info": {
   "codemirror_mode": {
    "name": "ipython",
    "version": 3
   },
   "file_extension": ".py",
   "mimetype": "text/x-python",
   "name": "python",
   "nbconvert_exporter": "python",
   "pygments_lexer": "ipython3",
   "version": "3.10.10"
  }
 },
 "nbformat": 4,
 "nbformat_minor": 5
}
